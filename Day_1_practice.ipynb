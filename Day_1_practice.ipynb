{
 "cells": [
  {
   "cell_type": "code",
   "execution_count": 1,
   "id": "5ffa3114",
   "metadata": {},
   "outputs": [
    {
     "name": "stdout",
     "output_type": "stream",
     "text": [
      "Hello world!\n"
     ]
    }
   ],
   "source": [
    "print(\"Hello world!\")"
   ]
  },
  {
   "cell_type": "code",
   "execution_count": 2,
   "id": "219beab6",
   "metadata": {},
   "outputs": [
    {
     "name": "stdout",
     "output_type": "stream",
     "text": [
      "5+5\n"
     ]
    }
   ],
   "source": [
    "print(\"5+5\")"
   ]
  },
  {
   "cell_type": "code",
   "execution_count": 3,
   "id": "4b50fe52",
   "metadata": {},
   "outputs": [
    {
     "name": "stdout",
     "output_type": "stream",
     "text": [
      "10\n"
     ]
    }
   ],
   "source": [
    "print(5+5)"
   ]
  },
  {
   "cell_type": "code",
   "execution_count": 6,
   "id": "1f43b30e",
   "metadata": {},
   "outputs": [
    {
     "name": "stdout",
     "output_type": "stream",
     "text": [
      "0\n"
     ]
    }
   ],
   "source": [
    "print(3-3)"
   ]
  },
  {
   "cell_type": "code",
   "execution_count": 7,
   "id": "63c34768",
   "metadata": {},
   "outputs": [
    {
     "name": "stdout",
     "output_type": "stream",
     "text": [
      "1+1\n"
     ]
    }
   ],
   "source": [
    "print(\"1+1\")"
   ]
  },
  {
   "cell_type": "code",
   "execution_count": 9,
   "id": "0a712de6",
   "metadata": {},
   "outputs": [
    {
     "name": "stdout",
     "output_type": "stream",
     "text": [
      "Hello all welcome to python coding class\n"
     ]
    }
   ],
   "source": [
    "print(\"Hello all welcome to python coding class\")"
   ]
  },
  {
   "cell_type": "code",
   "execution_count": null,
   "id": "d291e312",
   "metadata": {},
   "outputs": [],
   "source": []
  }
 ],
 "metadata": {
  "kernelspec": {
   "display_name": "Python 3 (ipykernel)",
   "language": "python",
   "name": "python3"
  },
  "language_info": {
   "codemirror_mode": {
    "name": "ipython",
    "version": 3
   },
   "file_extension": ".py",
   "mimetype": "text/x-python",
   "name": "python",
   "nbconvert_exporter": "python",
   "pygments_lexer": "ipython3",
   "version": "3.7.10"
  }
 },
 "nbformat": 4,
 "nbformat_minor": 5
}
